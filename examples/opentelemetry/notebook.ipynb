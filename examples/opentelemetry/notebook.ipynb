{
 "cells": [
  {
   "cell_type": "code",
   "execution_count": 1,
   "id": "e1fcc525-8149-451e-b9f6-f1656a406d39",
   "metadata": {
    "scrolled": true
   },
   "outputs": [
    {
     "name": "stdout",
     "output_type": "stream",
     "text": [
      "Requirement already satisfied: burr[start] in /Users/elijahbenizzy/.pyenv/versions/3.12.0/envs/burr-3-12/lib/python3.12/site-packages (0.24.0)\n",
      "Requirement already satisfied: graphviz in /Users/elijahbenizzy/.pyenv/versions/3.12.0/envs/burr-3-12/lib/python3.12/site-packages (from burr[start]) (0.20.3)\n",
      "Requirement already satisfied: sf-hamilton in /Users/elijahbenizzy/.pyenv/versions/3.12.0/envs/burr-3-12/lib/python3.12/site-packages (from burr[start]) (1.72.1)\n",
      "Requirement already satisfied: streamlit in /Users/elijahbenizzy/.pyenv/versions/3.12.0/envs/burr-3-12/lib/python3.12/site-packages (from burr[start]) (1.37.0)\n",
      "Requirement already satisfied: matplotlib in /Users/elijahbenizzy/.pyenv/versions/3.12.0/envs/burr-3-12/lib/python3.12/site-packages (from burr[start]) (3.9.1)\n",
      "Requirement already satisfied: loguru in /Users/elijahbenizzy/.pyenv/versions/3.12.0/envs/burr-3-12/lib/python3.12/site-packages (from burr[start]) (0.7.2)\n",
      "Requirement already satisfied: pydantic in /Users/elijahbenizzy/.pyenv/versions/3.12.0/envs/burr-3-12/lib/python3.12/site-packages (from burr[start]) (2.8.2)\n",
      "Requirement already satisfied: click in /Users/elijahbenizzy/.pyenv/versions/3.12.0/envs/burr-3-12/lib/python3.12/site-packages (from burr[start]) (8.1.7)\n",
      "Requirement already satisfied: fastapi in /Users/elijahbenizzy/.pyenv/versions/3.12.0/envs/burr-3-12/lib/python3.12/site-packages (from burr[start]) (0.111.1)\n",
      "Requirement already satisfied: uvicorn in /Users/elijahbenizzy/.pyenv/versions/3.12.0/envs/burr-3-12/lib/python3.12/site-packages (from burr[start]) (0.30.3)\n",
      "Requirement already satisfied: fastapi-pagination in /Users/elijahbenizzy/.pyenv/versions/3.12.0/envs/burr-3-12/lib/python3.12/site-packages (from burr[start]) (0.12.26)\n",
      "Requirement already satisfied: aiofiles in /Users/elijahbenizzy/.pyenv/versions/3.12.0/envs/burr-3-12/lib/python3.12/site-packages (from burr[start]) (24.1.0)\n",
      "Requirement already satisfied: requests in /Users/elijahbenizzy/.pyenv/versions/3.12.0/envs/burr-3-12/lib/python3.12/site-packages (from burr[start]) (2.32.3)\n",
      "Requirement already satisfied: jinja2 in /Users/elijahbenizzy/.pyenv/versions/3.12.0/envs/burr-3-12/lib/python3.12/site-packages (from burr[start]) (3.1.4)\n",
      "Requirement already satisfied: openai in /Users/elijahbenizzy/.pyenv/versions/3.12.0/envs/burr-3-12/lib/python3.12/site-packages (from burr[start]) (1.37.1)\n",
      "Requirement already satisfied: contourpy>=1.0.1 in /Users/elijahbenizzy/.pyenv/versions/3.12.0/envs/burr-3-12/lib/python3.12/site-packages (from matplotlib->burr[start]) (1.2.1)\n",
      "Requirement already satisfied: cycler>=0.10 in /Users/elijahbenizzy/.pyenv/versions/3.12.0/envs/burr-3-12/lib/python3.12/site-packages (from matplotlib->burr[start]) (0.12.1)\n",
      "Requirement already satisfied: fonttools>=4.22.0 in /Users/elijahbenizzy/.pyenv/versions/3.12.0/envs/burr-3-12/lib/python3.12/site-packages (from matplotlib->burr[start]) (4.53.1)\n",
      "Requirement already satisfied: kiwisolver>=1.3.1 in /Users/elijahbenizzy/.pyenv/versions/3.12.0/envs/burr-3-12/lib/python3.12/site-packages (from matplotlib->burr[start]) (1.4.5)\n",
      "Requirement already satisfied: numpy>=1.23 in /Users/elijahbenizzy/.pyenv/versions/3.12.0/envs/burr-3-12/lib/python3.12/site-packages (from matplotlib->burr[start]) (1.26.4)\n",
      "Requirement already satisfied: packaging>=20.0 in /Users/elijahbenizzy/.pyenv/versions/3.12.0/envs/burr-3-12/lib/python3.12/site-packages (from matplotlib->burr[start]) (24.1)\n",
      "Requirement already satisfied: pillow>=8 in /Users/elijahbenizzy/.pyenv/versions/3.12.0/envs/burr-3-12/lib/python3.12/site-packages (from matplotlib->burr[start]) (10.4.0)\n",
      "Requirement already satisfied: pyparsing>=2.3.1 in /Users/elijahbenizzy/.pyenv/versions/3.12.0/envs/burr-3-12/lib/python3.12/site-packages (from matplotlib->burr[start]) (3.1.2)\n",
      "Requirement already satisfied: python-dateutil>=2.7 in /Users/elijahbenizzy/.pyenv/versions/3.12.0/envs/burr-3-12/lib/python3.12/site-packages (from matplotlib->burr[start]) (2.9.0.post0)\n",
      "Requirement already satisfied: typing-extensions>4.0.0 in /Users/elijahbenizzy/.pyenv/versions/3.12.0/envs/burr-3-12/lib/python3.12/site-packages (from sf-hamilton->burr[start]) (4.12.2)\n",
      "Requirement already satisfied: pandas in /Users/elijahbenizzy/.pyenv/versions/3.12.0/envs/burr-3-12/lib/python3.12/site-packages (from sf-hamilton->burr[start]) (2.2.2)\n",
      "Requirement already satisfied: typing-inspect in /Users/elijahbenizzy/.pyenv/versions/3.12.0/envs/burr-3-12/lib/python3.12/site-packages (from sf-hamilton->burr[start]) (0.9.0)\n",
      "Requirement already satisfied: altair<6,>=4.0 in /Users/elijahbenizzy/.pyenv/versions/3.12.0/envs/burr-3-12/lib/python3.12/site-packages (from streamlit->burr[start]) (5.3.0)\n",
      "Requirement already satisfied: blinker<2,>=1.0.0 in /Users/elijahbenizzy/.pyenv/versions/3.12.0/envs/burr-3-12/lib/python3.12/site-packages (from streamlit->burr[start]) (1.8.2)\n",
      "Requirement already satisfied: cachetools<6,>=4.0 in /Users/elijahbenizzy/.pyenv/versions/3.12.0/envs/burr-3-12/lib/python3.12/site-packages (from streamlit->burr[start]) (5.4.0)\n",
      "Requirement already satisfied: protobuf<6,>=3.20 in /Users/elijahbenizzy/.pyenv/versions/3.12.0/envs/burr-3-12/lib/python3.12/site-packages (from streamlit->burr[start]) (4.25.4)\n",
      "Requirement already satisfied: pyarrow>=7.0 in /Users/elijahbenizzy/.pyenv/versions/3.12.0/envs/burr-3-12/lib/python3.12/site-packages (from streamlit->burr[start]) (17.0.0)\n",
      "Requirement already satisfied: rich<14,>=10.14.0 in /Users/elijahbenizzy/.pyenv/versions/3.12.0/envs/burr-3-12/lib/python3.12/site-packages (from streamlit->burr[start]) (13.7.1)\n",
      "Requirement already satisfied: tenacity<9,>=8.1.0 in /Users/elijahbenizzy/.pyenv/versions/3.12.0/envs/burr-3-12/lib/python3.12/site-packages (from streamlit->burr[start]) (8.5.0)\n",
      "Requirement already satisfied: toml<2,>=0.10.1 in /Users/elijahbenizzy/.pyenv/versions/3.12.0/envs/burr-3-12/lib/python3.12/site-packages (from streamlit->burr[start]) (0.10.2)\n",
      "Requirement already satisfied: gitpython!=3.1.19,<4,>=3.0.7 in /Users/elijahbenizzy/.pyenv/versions/3.12.0/envs/burr-3-12/lib/python3.12/site-packages (from streamlit->burr[start]) (3.1.43)\n",
      "Requirement already satisfied: pydeck<1,>=0.8.0b4 in /Users/elijahbenizzy/.pyenv/versions/3.12.0/envs/burr-3-12/lib/python3.12/site-packages (from streamlit->burr[start]) (0.9.1)\n",
      "Requirement already satisfied: tornado<7,>=6.0.3 in /Users/elijahbenizzy/.pyenv/versions/3.12.0/envs/burr-3-12/lib/python3.12/site-packages (from streamlit->burr[start]) (6.4.1)\n",
      "Requirement already satisfied: jsonschema>=3.0 in /Users/elijahbenizzy/.pyenv/versions/3.12.0/envs/burr-3-12/lib/python3.12/site-packages (from altair<6,>=4.0->streamlit->burr[start]) (4.23.0)\n",
      "Requirement already satisfied: toolz in /Users/elijahbenizzy/.pyenv/versions/3.12.0/envs/burr-3-12/lib/python3.12/site-packages (from altair<6,>=4.0->streamlit->burr[start]) (0.12.1)\n",
      "Requirement already satisfied: gitdb<5,>=4.0.1 in /Users/elijahbenizzy/.pyenv/versions/3.12.0/envs/burr-3-12/lib/python3.12/site-packages (from gitpython!=3.1.19,<4,>=3.0.7->streamlit->burr[start]) (4.0.11)\n",
      "Requirement already satisfied: pytz>=2020.1 in /Users/elijahbenizzy/.pyenv/versions/3.12.0/envs/burr-3-12/lib/python3.12/site-packages (from pandas->sf-hamilton->burr[start]) (2024.1)\n",
      "Requirement already satisfied: tzdata>=2022.7 in /Users/elijahbenizzy/.pyenv/versions/3.12.0/envs/burr-3-12/lib/python3.12/site-packages (from pandas->sf-hamilton->burr[start]) (2024.1)\n",
      "Requirement already satisfied: MarkupSafe>=2.0 in /Users/elijahbenizzy/.pyenv/versions/3.12.0/envs/burr-3-12/lib/python3.12/site-packages (from jinja2->burr[start]) (2.1.5)\n",
      "Requirement already satisfied: six>=1.5 in /Users/elijahbenizzy/.pyenv/versions/3.12.0/envs/burr-3-12/lib/python3.12/site-packages (from python-dateutil>=2.7->matplotlib->burr[start]) (1.16.0)\n",
      "Requirement already satisfied: charset-normalizer<4,>=2 in /Users/elijahbenizzy/.pyenv/versions/3.12.0/envs/burr-3-12/lib/python3.12/site-packages (from requests->burr[start]) (3.3.2)\n",
      "Requirement already satisfied: idna<4,>=2.5 in /Users/elijahbenizzy/.pyenv/versions/3.12.0/envs/burr-3-12/lib/python3.12/site-packages (from requests->burr[start]) (3.7)\n",
      "Requirement already satisfied: urllib3<3,>=1.21.1 in /Users/elijahbenizzy/.pyenv/versions/3.12.0/envs/burr-3-12/lib/python3.12/site-packages (from requests->burr[start]) (2.2.2)\n",
      "Requirement already satisfied: certifi>=2017.4.17 in /Users/elijahbenizzy/.pyenv/versions/3.12.0/envs/burr-3-12/lib/python3.12/site-packages (from requests->burr[start]) (2024.7.4)\n",
      "Requirement already satisfied: markdown-it-py>=2.2.0 in /Users/elijahbenizzy/.pyenv/versions/3.12.0/envs/burr-3-12/lib/python3.12/site-packages (from rich<14,>=10.14.0->streamlit->burr[start]) (3.0.0)\n",
      "Requirement already satisfied: pygments<3.0.0,>=2.13.0 in /Users/elijahbenizzy/.pyenv/versions/3.12.0/envs/burr-3-12/lib/python3.12/site-packages (from rich<14,>=10.14.0->streamlit->burr[start]) (2.18.0)\n",
      "Requirement already satisfied: starlette<0.38.0,>=0.37.2 in /Users/elijahbenizzy/.pyenv/versions/3.12.0/envs/burr-3-12/lib/python3.12/site-packages (from fastapi->burr[start]) (0.37.2)\n",
      "Requirement already satisfied: fastapi-cli>=0.0.2 in /Users/elijahbenizzy/.pyenv/versions/3.12.0/envs/burr-3-12/lib/python3.12/site-packages (from fastapi->burr[start]) (0.0.4)\n",
      "Requirement already satisfied: httpx>=0.23.0 in /Users/elijahbenizzy/.pyenv/versions/3.12.0/envs/burr-3-12/lib/python3.12/site-packages (from fastapi->burr[start]) (0.27.0)\n",
      "Requirement already satisfied: python-multipart>=0.0.7 in /Users/elijahbenizzy/.pyenv/versions/3.12.0/envs/burr-3-12/lib/python3.12/site-packages (from fastapi->burr[start]) (0.0.9)\n",
      "Requirement already satisfied: email_validator>=2.0.0 in /Users/elijahbenizzy/.pyenv/versions/3.12.0/envs/burr-3-12/lib/python3.12/site-packages (from fastapi->burr[start]) (2.2.0)\n",
      "Requirement already satisfied: annotated-types>=0.4.0 in /Users/elijahbenizzy/.pyenv/versions/3.12.0/envs/burr-3-12/lib/python3.12/site-packages (from pydantic->burr[start]) (0.7.0)\n",
      "Requirement already satisfied: pydantic-core==2.20.1 in /Users/elijahbenizzy/.pyenv/versions/3.12.0/envs/burr-3-12/lib/python3.12/site-packages (from pydantic->burr[start]) (2.20.1)\n",
      "Requirement already satisfied: anyio<5,>=3.5.0 in /Users/elijahbenizzy/.pyenv/versions/3.12.0/envs/burr-3-12/lib/python3.12/site-packages (from openai->burr[start]) (4.4.0)\n",
      "Requirement already satisfied: distro<2,>=1.7.0 in /Users/elijahbenizzy/.pyenv/versions/3.12.0/envs/burr-3-12/lib/python3.12/site-packages (from openai->burr[start]) (1.9.0)\n",
      "Requirement already satisfied: sniffio in /Users/elijahbenizzy/.pyenv/versions/3.12.0/envs/burr-3-12/lib/python3.12/site-packages (from openai->burr[start]) (1.3.1)\n",
      "Requirement already satisfied: tqdm>4 in /Users/elijahbenizzy/.pyenv/versions/3.12.0/envs/burr-3-12/lib/python3.12/site-packages (from openai->burr[start]) (4.66.4)\n",
      "Requirement already satisfied: mypy-extensions>=0.3.0 in /Users/elijahbenizzy/.pyenv/versions/3.12.0/envs/burr-3-12/lib/python3.12/site-packages (from typing-inspect->sf-hamilton->burr[start]) (1.0.0)\n",
      "Requirement already satisfied: h11>=0.8 in /Users/elijahbenizzy/.pyenv/versions/3.12.0/envs/burr-3-12/lib/python3.12/site-packages (from uvicorn->burr[start]) (0.14.0)\n",
      "Requirement already satisfied: dnspython>=2.0.0 in /Users/elijahbenizzy/.pyenv/versions/3.12.0/envs/burr-3-12/lib/python3.12/site-packages (from email_validator>=2.0.0->fastapi->burr[start]) (2.6.1)\n",
      "Requirement already satisfied: typer>=0.12.3 in /Users/elijahbenizzy/.pyenv/versions/3.12.0/envs/burr-3-12/lib/python3.12/site-packages (from fastapi-cli>=0.0.2->fastapi->burr[start]) (0.12.3)\n",
      "Requirement already satisfied: smmap<6,>=3.0.1 in /Users/elijahbenizzy/.pyenv/versions/3.12.0/envs/burr-3-12/lib/python3.12/site-packages (from gitdb<5,>=4.0.1->gitpython!=3.1.19,<4,>=3.0.7->streamlit->burr[start]) (5.0.1)\n",
      "Requirement already satisfied: httpcore==1.* in /Users/elijahbenizzy/.pyenv/versions/3.12.0/envs/burr-3-12/lib/python3.12/site-packages (from httpx>=0.23.0->fastapi->burr[start]) (1.0.5)\n",
      "Requirement already satisfied: attrs>=22.2.0 in /Users/elijahbenizzy/.pyenv/versions/3.12.0/envs/burr-3-12/lib/python3.12/site-packages (from jsonschema>=3.0->altair<6,>=4.0->streamlit->burr[start]) (23.2.0)\n",
      "Requirement already satisfied: jsonschema-specifications>=2023.03.6 in /Users/elijahbenizzy/.pyenv/versions/3.12.0/envs/burr-3-12/lib/python3.12/site-packages (from jsonschema>=3.0->altair<6,>=4.0->streamlit->burr[start]) (2023.12.1)\n",
      "Requirement already satisfied: referencing>=0.28.4 in /Users/elijahbenizzy/.pyenv/versions/3.12.0/envs/burr-3-12/lib/python3.12/site-packages (from jsonschema>=3.0->altair<6,>=4.0->streamlit->burr[start]) (0.35.1)\n",
      "Requirement already satisfied: rpds-py>=0.7.1 in /Users/elijahbenizzy/.pyenv/versions/3.12.0/envs/burr-3-12/lib/python3.12/site-packages (from jsonschema>=3.0->altair<6,>=4.0->streamlit->burr[start]) (0.19.1)\n",
      "Requirement already satisfied: mdurl~=0.1 in /Users/elijahbenizzy/.pyenv/versions/3.12.0/envs/burr-3-12/lib/python3.12/site-packages (from markdown-it-py>=2.2.0->rich<14,>=10.14.0->streamlit->burr[start]) (0.1.2)\n",
      "Requirement already satisfied: httptools>=0.5.0 in /Users/elijahbenizzy/.pyenv/versions/3.12.0/envs/burr-3-12/lib/python3.12/site-packages (from uvicorn->burr[start]) (0.6.1)\n",
      "Requirement already satisfied: python-dotenv>=0.13 in /Users/elijahbenizzy/.pyenv/versions/3.12.0/envs/burr-3-12/lib/python3.12/site-packages (from uvicorn->burr[start]) (1.0.1)\n",
      "Requirement already satisfied: pyyaml>=5.1 in /Users/elijahbenizzy/.pyenv/versions/3.12.0/envs/burr-3-12/lib/python3.12/site-packages (from uvicorn->burr[start]) (6.0.1)\n",
      "Requirement already satisfied: uvloop!=0.15.0,!=0.15.1,>=0.14.0 in /Users/elijahbenizzy/.pyenv/versions/3.12.0/envs/burr-3-12/lib/python3.12/site-packages (from uvicorn->burr[start]) (0.19.0)\n",
      "Requirement already satisfied: watchfiles>=0.13 in /Users/elijahbenizzy/.pyenv/versions/3.12.0/envs/burr-3-12/lib/python3.12/site-packages (from uvicorn->burr[start]) (0.22.0)\n",
      "Requirement already satisfied: websockets>=10.4 in /Users/elijahbenizzy/.pyenv/versions/3.12.0/envs/burr-3-12/lib/python3.12/site-packages (from uvicorn->burr[start]) (12.0)\n",
      "Requirement already satisfied: shellingham>=1.3.0 in /Users/elijahbenizzy/.pyenv/versions/3.12.0/envs/burr-3-12/lib/python3.12/site-packages (from typer>=0.12.3->fastapi-cli>=0.0.2->fastapi->burr[start]) (1.5.4)\n",
      "\n",
      "\u001b[1m[\u001b[0m\u001b[34;49mnotice\u001b[0m\u001b[1;39;49m]\u001b[0m\u001b[39;49m A new release of pip is available: \u001b[0m\u001b[31;49m23.2.1\u001b[0m\u001b[39;49m -> \u001b[0m\u001b[32;49m24.2\u001b[0m\n",
      "\u001b[1m[\u001b[0m\u001b[34;49mnotice\u001b[0m\u001b[1;39;49m]\u001b[0m\u001b[39;49m To update, run: \u001b[0m\u001b[32;49mpython3.12 -m pip install --upgrade pip\u001b[0m\n",
      "Requirement already satisfied: opentelemetry-instrumentation-openai in /Users/elijahbenizzy/.pyenv/versions/3.12.0/envs/burr-3-12/lib/python3.12/site-packages (0.26.4)\n",
      "Requirement already satisfied: opentelemetry-api<2.0.0,>=1.26.0 in /Users/elijahbenizzy/.pyenv/versions/3.12.0/envs/burr-3-12/lib/python3.12/site-packages (from opentelemetry-instrumentation-openai) (1.26.0)\n",
      "Requirement already satisfied: opentelemetry-instrumentation<0.48,>=0.47b0 in /Users/elijahbenizzy/.pyenv/versions/3.12.0/envs/burr-3-12/lib/python3.12/site-packages (from opentelemetry-instrumentation-openai) (0.47b0)\n",
      "Requirement already satisfied: opentelemetry-semantic-conventions<0.48,>=0.47b0 in /Users/elijahbenizzy/.pyenv/versions/3.12.0/envs/burr-3-12/lib/python3.12/site-packages (from opentelemetry-instrumentation-openai) (0.47b0)\n",
      "Requirement already satisfied: opentelemetry-semantic-conventions-ai==0.4.0 in /Users/elijahbenizzy/.pyenv/versions/3.12.0/envs/burr-3-12/lib/python3.12/site-packages (from opentelemetry-instrumentation-openai) (0.4.0)\n",
      "Requirement already satisfied: tiktoken<1,>=0.6.0 in /Users/elijahbenizzy/.pyenv/versions/3.12.0/envs/burr-3-12/lib/python3.12/site-packages (from opentelemetry-instrumentation-openai) (0.7.0)\n",
      "Requirement already satisfied: deprecated>=1.2.6 in /Users/elijahbenizzy/.pyenv/versions/3.12.0/envs/burr-3-12/lib/python3.12/site-packages (from opentelemetry-api<2.0.0,>=1.26.0->opentelemetry-instrumentation-openai) (1.2.14)\n",
      "Requirement already satisfied: importlib-metadata<=8.0.0,>=6.0 in /Users/elijahbenizzy/.pyenv/versions/3.12.0/envs/burr-3-12/lib/python3.12/site-packages (from opentelemetry-api<2.0.0,>=1.26.0->opentelemetry-instrumentation-openai) (8.0.0)\n",
      "Requirement already satisfied: setuptools>=16.0 in /Users/elijahbenizzy/.pyenv/versions/3.12.0/envs/burr-3-12/lib/python3.12/site-packages (from opentelemetry-instrumentation<0.48,>=0.47b0->opentelemetry-instrumentation-openai) (72.1.0)\n",
      "Requirement already satisfied: wrapt<2.0.0,>=1.0.0 in /Users/elijahbenizzy/.pyenv/versions/3.12.0/envs/burr-3-12/lib/python3.12/site-packages (from opentelemetry-instrumentation<0.48,>=0.47b0->opentelemetry-instrumentation-openai) (1.16.0)\n",
      "Requirement already satisfied: regex>=2022.1.18 in /Users/elijahbenizzy/.pyenv/versions/3.12.0/envs/burr-3-12/lib/python3.12/site-packages (from tiktoken<1,>=0.6.0->opentelemetry-instrumentation-openai) (2024.7.24)\n",
      "Requirement already satisfied: requests>=2.26.0 in /Users/elijahbenizzy/.pyenv/versions/3.12.0/envs/burr-3-12/lib/python3.12/site-packages (from tiktoken<1,>=0.6.0->opentelemetry-instrumentation-openai) (2.32.3)\n",
      "Requirement already satisfied: zipp>=0.5 in /Users/elijahbenizzy/.pyenv/versions/3.12.0/envs/burr-3-12/lib/python3.12/site-packages (from importlib-metadata<=8.0.0,>=6.0->opentelemetry-api<2.0.0,>=1.26.0->opentelemetry-instrumentation-openai) (3.19.2)\n",
      "Requirement already satisfied: charset-normalizer<4,>=2 in /Users/elijahbenizzy/.pyenv/versions/3.12.0/envs/burr-3-12/lib/python3.12/site-packages (from requests>=2.26.0->tiktoken<1,>=0.6.0->opentelemetry-instrumentation-openai) (3.3.2)\n",
      "Requirement already satisfied: idna<4,>=2.5 in /Users/elijahbenizzy/.pyenv/versions/3.12.0/envs/burr-3-12/lib/python3.12/site-packages (from requests>=2.26.0->tiktoken<1,>=0.6.0->opentelemetry-instrumentation-openai) (3.7)\n",
      "Requirement already satisfied: urllib3<3,>=1.21.1 in /Users/elijahbenizzy/.pyenv/versions/3.12.0/envs/burr-3-12/lib/python3.12/site-packages (from requests>=2.26.0->tiktoken<1,>=0.6.0->opentelemetry-instrumentation-openai) (2.2.2)\n",
      "Requirement already satisfied: certifi>=2017.4.17 in /Users/elijahbenizzy/.pyenv/versions/3.12.0/envs/burr-3-12/lib/python3.12/site-packages (from requests>=2.26.0->tiktoken<1,>=0.6.0->opentelemetry-instrumentation-openai) (2024.7.4)\n",
      "\n",
      "\u001b[1m[\u001b[0m\u001b[34;49mnotice\u001b[0m\u001b[1;39;49m]\u001b[0m\u001b[39;49m A new release of pip is available: \u001b[0m\u001b[31;49m23.2.1\u001b[0m\u001b[39;49m -> \u001b[0m\u001b[32;49m24.2\u001b[0m\n",
      "\u001b[1m[\u001b[0m\u001b[34;49mnotice\u001b[0m\u001b[1;39;49m]\u001b[0m\u001b[39;49m To update, run: \u001b[0m\u001b[32;49mpython3.12 -m pip install --upgrade pip\u001b[0m\n"
     ]
    }
   ],
   "source": [
    "!pip install \"burr[start]\"\n",
    "!pip install opentelemetry-instrumentation-openai"
   ]
  },
  {
   "cell_type": "markdown",
   "id": "5f7d4516-c5e1-4889-abed-155645c41d9d",
   "metadata": {
    "collapsed": false,
    "jupyter": {
     "outputs_hidden": false
    }
   },
   "source": [
    "# OpenTelemetry\n",
    "\n",
    "In this notebook we'll instrument a simple Burr app with [OpenTelemetry](www.opentelemetry.io). See the [docs](https://burr.dagworks.io/concepts/additional-visibility/) for more information."
   ]
  },
  {
   "cell_type": "markdown",
   "id": "9e746862-d3b3-42f3-a3f7-0dbbdea54472",
   "metadata": {},
   "source": [
    "# Our application\n",
    "\n",
    "Let's take a look at the graph we've defined in [application.py](./application.py). As you can see, it's a simple multi-modal chatbot."
   ]
  },
  {
   "cell_type": "code",
   "execution_count": 2,
   "id": "1540b34e-dfd8-49f6-8d6c-5585af0596ab",
   "metadata": {},
   "outputs": [
    {
     "data": {
      "image/svg+xml": [
       "<?xml version=\"1.0\" encoding=\"UTF-8\" standalone=\"no\"?>\n",
       "<!DOCTYPE svg PUBLIC \"-//W3C//DTD SVG 1.1//EN\"\n",
       " \"http://www.w3.org/Graphics/SVG/1.1/DTD/svg11.dtd\">\n",
       "<!-- Generated by graphviz version 12.0.0 (20240704.0754)\n",
       " -->\n",
       "<!-- Pages: 1 -->\n",
       "<svg width=\"642pt\" height=\"414pt\"\n",
       " viewBox=\"0.00 0.00 641.85 413.60\" xmlns=\"http://www.w3.org/2000/svg\" xmlns:xlink=\"http://www.w3.org/1999/xlink\">\n",
       "<g id=\"graph0\" class=\"graph\" transform=\"scale(1 1) rotate(0) translate(4 409.6)\">\n",
       "<polygon fill=\"white\" stroke=\"none\" points=\"-4,4 -4,-409.6 637.85,-409.6 637.85,4 -4,4\"/>\n",
       "<!-- prompt -->\n",
       "<g id=\"node1\" class=\"node\">\n",
       "<title>prompt</title>\n",
       "<path fill=\"#b4d8e4\" stroke=\"black\" d=\"M603.47,-338C603.47,-338 563.12,-338 563.12,-338 557.12,-338 551.12,-332 551.12,-326 551.12,-326 551.12,-313.4 551.12,-313.4 551.12,-307.4 557.12,-301.4 563.12,-301.4 563.12,-301.4 603.47,-301.4 603.47,-301.4 609.47,-301.4 615.47,-307.4 615.47,-313.4 615.47,-313.4 615.47,-326 615.47,-326 615.47,-332 609.47,-338 603.47,-338\"/>\n",
       "<text text-anchor=\"middle\" x=\"583.3\" y=\"-313.9\" font-family=\"Helvetica,sans-Serif\" font-size=\"14.00\">prompt</text>\n",
       "</g>\n",
       "<!-- check_safety -->\n",
       "<g id=\"node3\" class=\"node\">\n",
       "<title>check_safety</title>\n",
       "<path fill=\"#b4d8e4\" stroke=\"black\" d=\"M582.47,-270.4C582.47,-270.4 506.12,-270.4 506.12,-270.4 500.12,-270.4 494.12,-264.4 494.12,-258.4 494.12,-258.4 494.12,-245.8 494.12,-245.8 494.12,-239.8 500.12,-233.8 506.12,-233.8 506.12,-233.8 582.47,-233.8 582.47,-233.8 588.47,-233.8 594.47,-239.8 594.47,-245.8 594.47,-245.8 594.47,-258.4 594.47,-258.4 594.47,-264.4 588.47,-270.4 582.47,-270.4\"/>\n",
       "<text text-anchor=\"middle\" x=\"544.3\" y=\"-246.3\" font-family=\"Helvetica,sans-Serif\" font-size=\"14.00\">check_safety</text>\n",
       "</g>\n",
       "<!-- prompt&#45;&gt;check_safety -->\n",
       "<g id=\"edge5\" class=\"edge\">\n",
       "<title>prompt&#45;&gt;check_safety</title>\n",
       "<path fill=\"none\" stroke=\"black\" d=\"M572.85,-301.12C569.09,-294.8 564.75,-287.5 560.61,-280.54\"/>\n",
       "<polygon fill=\"black\" stroke=\"black\" points=\"563.67,-278.84 555.55,-272.03 557.66,-282.41 563.67,-278.84\"/>\n",
       "</g>\n",
       "<!-- input__prompt -->\n",
       "<g id=\"node2\" class=\"node\">\n",
       "<title>input__prompt</title>\n",
       "<polygon fill=\"none\" stroke=\"black\" stroke-dasharray=\"5,2\" points=\"633.85,-405.6 532.75,-405.6 532.75,-369 633.85,-369 633.85,-405.6\"/>\n",
       "<text text-anchor=\"middle\" x=\"583.3\" y=\"-381.5\" font-family=\"Helvetica,sans-Serif\" font-size=\"14.00\">input: prompt</text>\n",
       "</g>\n",
       "<!-- input__prompt&#45;&gt;prompt -->\n",
       "<g id=\"edge1\" class=\"edge\">\n",
       "<title>input__prompt&#45;&gt;prompt</title>\n",
       "<path fill=\"none\" stroke=\"black\" d=\"M583.3,-368.72C583.3,-362.84 583.3,-356.12 583.3,-349.6\"/>\n",
       "<polygon fill=\"black\" stroke=\"black\" points=\"586.8,-349.84 583.3,-339.84 579.8,-349.84 586.8,-349.84\"/>\n",
       "</g>\n",
       "<!-- decide_mode -->\n",
       "<g id=\"node4\" class=\"node\">\n",
       "<title>decide_mode</title>\n",
       "<path fill=\"#b4d8e4\" stroke=\"black\" d=\"M268.97,-187.3C268.97,-187.3 189.62,-187.3 189.62,-187.3 183.62,-187.3 177.62,-181.3 177.62,-175.3 177.62,-175.3 177.62,-162.7 177.62,-162.7 177.62,-156.7 183.62,-150.7 189.62,-150.7 189.62,-150.7 268.97,-150.7 268.97,-150.7 274.97,-150.7 280.97,-156.7 280.97,-162.7 280.97,-162.7 280.97,-175.3 280.97,-175.3 280.97,-181.3 274.97,-187.3 268.97,-187.3\"/>\n",
       "<text text-anchor=\"middle\" x=\"229.3\" y=\"-163.2\" font-family=\"Helvetica,sans-Serif\" font-size=\"14.00\">decide_mode</text>\n",
       "</g>\n",
       "<!-- check_safety&#45;&gt;decide_mode -->\n",
       "<g id=\"edge6\" class=\"edge\">\n",
       "<title>check_safety&#45;&gt;decide_mode</title>\n",
       "<path fill=\"none\" stroke=\"black\" stroke-dasharray=\"5,2\" d=\"M493.69,-238.07C438.96,-223.98 351.62,-201.49 292.43,-186.25\"/>\n",
       "<polygon fill=\"black\" stroke=\"black\" points=\"293.38,-182.88 282.82,-183.78 291.63,-189.66 293.38,-182.88\"/>\n",
       "<text text-anchor=\"middle\" x=\"443.05\" y=\"-205.5\" font-family=\"Times,serif\" font-size=\"14.00\">safe=True</text>\n",
       "</g>\n",
       "<!-- response -->\n",
       "<g id=\"node10\" class=\"node\">\n",
       "<title>response</title>\n",
       "<path fill=\"#b4d8e4\" stroke=\"black\" d=\"M476.85,-36.6C476.85,-36.6 423.75,-36.6 423.75,-36.6 417.75,-36.6 411.75,-30.6 411.75,-24.6 411.75,-24.6 411.75,-12 411.75,-12 411.75,-6 417.75,0 423.75,0 423.75,0 476.85,0 476.85,0 482.85,0 488.85,-6 488.85,-12 488.85,-12 488.85,-24.6 488.85,-24.6 488.85,-30.6 482.85,-36.6 476.85,-36.6\"/>\n",
       "<text text-anchor=\"middle\" x=\"450.3\" y=\"-12.5\" font-family=\"Helvetica,sans-Serif\" font-size=\"14.00\">response</text>\n",
       "</g>\n",
       "<!-- check_safety&#45;&gt;response -->\n",
       "<g id=\"edge7\" class=\"edge\">\n",
       "<title>check_safety&#45;&gt;response</title>\n",
       "<path fill=\"none\" stroke=\"black\" d=\"M553.33,-233.41C569.76,-198.48 599.82,-119.54 565.3,-67.6 550.76,-45.73 524.18,-33.74 500.24,-27.18\"/>\n",
       "<polygon fill=\"black\" stroke=\"black\" points=\"501.14,-23.79 490.59,-24.81 499.47,-30.59 501.14,-23.79\"/>\n",
       "</g>\n",
       "<!-- generate_image -->\n",
       "<g id=\"node5\" class=\"node\">\n",
       "<title>generate_image</title>\n",
       "<path fill=\"#b4d8e4\" stroke=\"black\" d=\"M414.22,-104.2C414.22,-104.2 318.37,-104.2 318.37,-104.2 312.37,-104.2 306.37,-98.2 306.37,-92.2 306.37,-92.2 306.37,-79.6 306.37,-79.6 306.37,-73.6 312.37,-67.6 318.37,-67.6 318.37,-67.6 414.22,-67.6 414.22,-67.6 420.22,-67.6 426.22,-73.6 426.22,-79.6 426.22,-79.6 426.22,-92.2 426.22,-92.2 426.22,-98.2 420.22,-104.2 414.22,-104.2\"/>\n",
       "<text text-anchor=\"middle\" x=\"366.3\" y=\"-80.1\" font-family=\"Helvetica,sans-Serif\" font-size=\"14.00\">generate_image</text>\n",
       "</g>\n",
       "<!-- decide_mode&#45;&gt;generate_image -->\n",
       "<g id=\"edge8\" class=\"edge\">\n",
       "<title>decide_mode&#45;&gt;generate_image</title>\n",
       "<path fill=\"none\" stroke=\"black\" stroke-dasharray=\"5,2\" d=\"M234.67,-150.37C238.71,-139.91 245.25,-127.19 255.05,-119.2 258.82,-116.13 275.58,-110.78 295,-105.3\"/>\n",
       "<polygon fill=\"black\" stroke=\"black\" points=\"295.83,-108.7 304.54,-102.67 293.97,-101.96 295.83,-108.7\"/>\n",
       "<text text-anchor=\"middle\" x=\"317.92\" y=\"-122.4\" font-family=\"Times,serif\" font-size=\"14.00\">mode=generate_image</text>\n",
       "</g>\n",
       "<!-- generate_code -->\n",
       "<g id=\"node7\" class=\"node\">\n",
       "<title>generate_code</title>\n",
       "<path fill=\"#b4d8e4\" stroke=\"black\" d=\"M544.1,-104.2C544.1,-104.2 456.5,-104.2 456.5,-104.2 450.5,-104.2 444.5,-98.2 444.5,-92.2 444.5,-92.2 444.5,-79.6 444.5,-79.6 444.5,-73.6 450.5,-67.6 456.5,-67.6 456.5,-67.6 544.1,-67.6 544.1,-67.6 550.1,-67.6 556.1,-73.6 556.1,-79.6 556.1,-79.6 556.1,-92.2 556.1,-92.2 556.1,-98.2 550.1,-104.2 544.1,-104.2\"/>\n",
       "<text text-anchor=\"middle\" x=\"500.3\" y=\"-80.1\" font-family=\"Helvetica,sans-Serif\" font-size=\"14.00\">generate_code</text>\n",
       "</g>\n",
       "<!-- decide_mode&#45;&gt;generate_code -->\n",
       "<g id=\"edge9\" class=\"edge\">\n",
       "<title>decide_mode&#45;&gt;generate_code</title>\n",
       "<path fill=\"none\" stroke=\"black\" stroke-dasharray=\"5,2\" d=\"M281.24,-159.22C310.64,-153.68 347.89,-145.67 380.3,-135.7 393.67,-131.59 422.37,-119.95 448.35,-109.08\"/>\n",
       "<polygon fill=\"black\" stroke=\"black\" points=\"449.63,-112.34 457.49,-105.23 446.91,-105.88 449.63,-112.34\"/>\n",
       "<text text-anchor=\"middle\" x=\"480.8\" y=\"-122.4\" font-family=\"Times,serif\" font-size=\"14.00\">mode=generate_code</text>\n",
       "</g>\n",
       "<!-- answer_question -->\n",
       "<g id=\"node8\" class=\"node\">\n",
       "<title>answer_question</title>\n",
       "<path fill=\"#b4d8e4\" stroke=\"black\" d=\"M276.1,-104.2C276.1,-104.2 176.5,-104.2 176.5,-104.2 170.5,-104.2 164.5,-98.2 164.5,-92.2 164.5,-92.2 164.5,-79.6 164.5,-79.6 164.5,-73.6 170.5,-67.6 176.5,-67.6 176.5,-67.6 276.1,-67.6 276.1,-67.6 282.1,-67.6 288.1,-73.6 288.1,-79.6 288.1,-79.6 288.1,-92.2 288.1,-92.2 288.1,-98.2 282.1,-104.2 276.1,-104.2\"/>\n",
       "<text text-anchor=\"middle\" x=\"226.3\" y=\"-80.1\" font-family=\"Helvetica,sans-Serif\" font-size=\"14.00\">answer_question</text>\n",
       "</g>\n",
       "<!-- decide_mode&#45;&gt;answer_question -->\n",
       "<g id=\"edge10\" class=\"edge\">\n",
       "<title>decide_mode&#45;&gt;answer_question</title>\n",
       "<path fill=\"none\" stroke=\"black\" stroke-dasharray=\"5,2\" d=\"M177.37,-163.83C138.52,-159.51 90.05,-151.14 77.55,-135.7 72.94,-130 72.95,-124.91 77.55,-119.2 80.18,-115.94 116.74,-107.97 152.95,-100.77\"/>\n",
       "<polygon fill=\"black\" stroke=\"black\" points=\"153.52,-104.23 162.66,-98.86 152.17,-97.36 153.52,-104.23\"/>\n",
       "<text text-anchor=\"middle\" x=\"143.17\" y=\"-122.4\" font-family=\"Times,serif\" font-size=\"14.00\">mode=answer_question</text>\n",
       "</g>\n",
       "<!-- prompt_for_more -->\n",
       "<g id=\"node9\" class=\"node\">\n",
       "<title>prompt_for_more</title>\n",
       "<path fill=\"#b4d8e4\" stroke=\"black\" d=\"M114.6,-104.2C114.6,-104.2 12,-104.2 12,-104.2 6,-104.2 0,-98.2 0,-92.2 0,-92.2 0,-79.6 0,-79.6 0,-73.6 6,-67.6 12,-67.6 12,-67.6 114.6,-67.6 114.6,-67.6 120.6,-67.6 126.6,-73.6 126.6,-79.6 126.6,-79.6 126.6,-92.2 126.6,-92.2 126.6,-98.2 120.6,-104.2 114.6,-104.2\"/>\n",
       "<text text-anchor=\"middle\" x=\"63.3\" y=\"-80.1\" font-family=\"Helvetica,sans-Serif\" font-size=\"14.00\">prompt_for_more</text>\n",
       "</g>\n",
       "<!-- decide_mode&#45;&gt;prompt_for_more -->\n",
       "<g id=\"edge11\" class=\"edge\">\n",
       "<title>decide_mode&#45;&gt;prompt_for_more</title>\n",
       "<path fill=\"none\" stroke=\"black\" d=\"M177.14,-163.83C136.55,-159.46 84.75,-151.01 70.3,-135.7 65.21,-130.31 62.77,-122.98 61.76,-115.64\"/>\n",
       "<polygon fill=\"black\" stroke=\"black\" points=\"65.26,-115.69 61.26,-105.88 58.27,-116.05 65.26,-115.69\"/>\n",
       "</g>\n",
       "<!-- generate_image&#45;&gt;response -->\n",
       "<g id=\"edge12\" class=\"edge\">\n",
       "<title>generate_image&#45;&gt;response</title>\n",
       "<path fill=\"none\" stroke=\"black\" d=\"M388.81,-67.32C398.04,-60.11 408.88,-51.65 418.87,-43.85\"/>\n",
       "<polygon fill=\"black\" stroke=\"black\" points=\"420.81,-46.77 426.53,-37.86 416.5,-41.26 420.81,-46.77\"/>\n",
       "</g>\n",
       "<!-- input__model -->\n",
       "<g id=\"node6\" class=\"node\">\n",
       "<title>input__model</title>\n",
       "<polygon fill=\"none\" stroke=\"black\" stroke-dasharray=\"5,2\" points=\"556.22,-187.3 460.37,-187.3 460.37,-150.7 556.22,-150.7 556.22,-187.3\"/>\n",
       "<text text-anchor=\"middle\" x=\"508.3\" y=\"-163.2\" font-family=\"Helvetica,sans-Serif\" font-size=\"14.00\">input: model</text>\n",
       "</g>\n",
       "<!-- input__model&#45;&gt;generate_image -->\n",
       "<g id=\"edge2\" class=\"edge\">\n",
       "<title>input__model&#45;&gt;generate_image</title>\n",
       "<path fill=\"none\" stroke=\"black\" d=\"M519.46,-150.49C524.38,-140.34 527.59,-127.89 520.3,-119.2 509.46,-106.29 466.51,-107.58 437.52,-104.04\"/>\n",
       "<polygon fill=\"black\" stroke=\"black\" points=\"438.38,-100.63 427.95,-102.49 437.26,-107.54 438.38,-100.63\"/>\n",
       "</g>\n",
       "<!-- input__model&#45;&gt;generate_code -->\n",
       "<g id=\"edge3\" class=\"edge\">\n",
       "<title>input__model&#45;&gt;generate_code</title>\n",
       "<path fill=\"none\" stroke=\"black\" d=\"M533.96,-150.48C543.61,-141.6 551.03,-130.36 545.3,-119.2 544.12,-116.91 542.7,-114.74 541.09,-112.7\"/>\n",
       "<polygon fill=\"black\" stroke=\"black\" points=\"543.64,-110.3 534.14,-105.61 538.65,-115.2 543.64,-110.3\"/>\n",
       "</g>\n",
       "<!-- input__model&#45;&gt;answer_question -->\n",
       "<g id=\"edge4\" class=\"edge\">\n",
       "<title>input__model&#45;&gt;answer_question</title>\n",
       "<path fill=\"none\" stroke=\"black\" d=\"M460.09,-158.85C436.44,-153.54 407.84,-145.86 383.3,-135.7 369.96,-130.17 368.67,-124.68 355.3,-119.2 352.28,-117.96 326.79,-111.53 299.26,-104.72\"/>\n",
       "<polygon fill=\"black\" stroke=\"black\" points=\"300.25,-101.36 289.71,-102.36 298.58,-108.15 300.25,-101.36\"/>\n",
       "</g>\n",
       "<!-- generate_code&#45;&gt;response -->\n",
       "<g id=\"edge14\" class=\"edge\">\n",
       "<title>generate_code&#45;&gt;response</title>\n",
       "<path fill=\"none\" stroke=\"black\" d=\"M486.9,-67.32C481.86,-60.7 476,-53.02 470.48,-45.77\"/>\n",
       "<polygon fill=\"black\" stroke=\"black\" points=\"473.5,-43.96 464.65,-38.13 467.93,-48.21 473.5,-43.96\"/>\n",
       "</g>\n",
       "<!-- answer_question&#45;&gt;response -->\n",
       "<g id=\"edge13\" class=\"edge\">\n",
       "<title>answer_question&#45;&gt;response</title>\n",
       "<path fill=\"none\" stroke=\"black\" d=\"M286.92,-67.15C322.54,-56.72 367.01,-43.69 400.56,-33.87\"/>\n",
       "<polygon fill=\"black\" stroke=\"black\" points=\"401.43,-37.26 410.04,-31.09 399.46,-30.54 401.43,-37.26\"/>\n",
       "</g>\n",
       "<!-- prompt_for_more&#45;&gt;response -->\n",
       "<g id=\"edge15\" class=\"edge\">\n",
       "<title>prompt_for_more&#45;&gt;response</title>\n",
       "<path fill=\"none\" stroke=\"black\" d=\"M126.61,-72.79C136.22,-71.01 146.02,-69.23 155.3,-67.6 241.31,-52.47 341.72,-36.36 400.42,-27.1\"/>\n",
       "<polygon fill=\"black\" stroke=\"black\" points=\"400.77,-30.59 410.1,-25.57 399.68,-23.67 400.77,-30.59\"/>\n",
       "</g>\n",
       "<!-- response&#45;&gt;prompt -->\n",
       "<g id=\"edge16\" class=\"edge\">\n",
       "<title>response&#45;&gt;prompt</title>\n",
       "<path fill=\"none\" stroke=\"black\" d=\"M489.33,-26.11C540.08,-36.08 622.3,-56.62 622.3,-84.9 622.3,-253.1 622.3,-253.1 622.3,-253.1 622.3,-267.28 615.48,-281.07 607.55,-292.32\"/>\n",
       "<polygon fill=\"black\" stroke=\"black\" points=\"605.02,-289.87 601.67,-299.92 610.56,-294.15 605.02,-289.87\"/>\n",
       "</g>\n",
       "</g>\n",
       "</svg>\n"
      ],
      "text/plain": [
       "Graph(actions=[prompt: {} -> chat_history, prompt, check_safety: prompt -> safe, decide_mode: prompt -> mode, generate_image: prompt, chat_history, mode -> response, generate_code: prompt, chat_history, mode -> response, answer_question: prompt, chat_history, mode -> response, prompt_for_more: prompt, chat_history -> response, response: response, safe, mode -> chat_history], transitions=[Transition(from_=prompt: {} -> chat_history, prompt, to=check_safety: prompt -> safe, condition=condition: default), Transition(from_=check_safety: prompt -> safe, to=decide_mode: prompt -> mode, condition=condition: safe=True), Transition(from_=check_safety: prompt -> safe, to=response: response, safe, mode -> chat_history, condition=condition: default), Transition(from_=decide_mode: prompt -> mode, to=generate_image: prompt, chat_history, mode -> response, condition=condition: mode=generate_image), Transition(from_=decide_mode: prompt -> mode, to=generate_code: prompt, chat_history, mode -> response, condition=condition: mode=generate_code), Transition(from_=decide_mode: prompt -> mode, to=answer_question: prompt, chat_history, mode -> response, condition=condition: mode=answer_question), Transition(from_=decide_mode: prompt -> mode, to=prompt_for_more: prompt, chat_history -> response, condition=condition: default), Transition(from_=generate_image: prompt, chat_history, mode -> response, to=response: response, safe, mode -> chat_history, condition=condition: default), Transition(from_=answer_question: prompt, chat_history, mode -> response, to=response: response, safe, mode -> chat_history, condition=condition: default), Transition(from_=generate_code: prompt, chat_history, mode -> response, to=response: response, safe, mode -> chat_history, condition=condition: default), Transition(from_=prompt_for_more: prompt, chat_history -> response, to=response: response, safe, mode -> chat_history, condition=condition: default), Transition(from_=response: response, safe, mode -> chat_history, to=prompt: {} -> chat_history, prompt, condition=condition: default)])"
      ]
     },
     "execution_count": 2,
     "metadata": {},
     "output_type": "execute_result"
    }
   ],
   "source": [
    "from application import graph\n",
    "graph"
   ]
  },
  {
   "cell_type": "markdown",
   "id": "a07bdcf3-94f4-47d0-8ec3-00d3c7ee8c8d",
   "metadata": {},
   "source": [
    "# Building the application \n",
    "\n",
    "We're going to instrument this with OpenTelemetry -- first using Burr as the provider then using [Traceloop](traceloop.com). There are reasons to use them both, and you can use them together!\n",
    "\n",
    "First, let's use Burr to build an application (vanilla) and run it:"
   ]
  },
  {
   "cell_type": "code",
   "execution_count": 3,
   "id": "bba29bd1-3e59-4050-821c-8da44c2c583f",
   "metadata": {},
   "outputs": [
    {
     "data": {
      "text/plain": [
       "(response: response, safe, mode -> chat_history,\n",
       " {'chat_item': {'content': 'The capital of France is Paris.',\n",
       "   'type': 'text',\n",
       "   'role': 'assistant'}},\n",
       " {'chat_history': [{'role': 'user', 'content': 'Please answer the following question:: What is the capital of France?', 'type': 'text'}, {'content': 'The capital of France is Paris.', 'type': 'text', 'role': 'assistant'}], '__SEQUENCE_ID': 4, 'prompt': 'What is the capital of France?', '__PRIOR_STEP': 'response', 'safe': True, 'mode': 'answer_question', 'response': {'content': 'The capital of France is Paris.', 'type': 'text', 'role': 'assistant'}})"
      ]
     },
     "execution_count": 3,
     "metadata": {},
     "output_type": "execute_result"
    }
   ],
   "source": [
    "from burr.core import ApplicationBuilder\n",
    "app = (\n",
    "    ApplicationBuilder()\n",
    "    .with_entrypoint(\"prompt\")\n",
    "    .with_state(chat_history=[])\n",
    "    .with_graph(graph)\n",
    "    .build()\n",
    ")\n",
    "app.run(inputs={\"prompt\":\"What is the capital of France?\"}, halt_after=[\"response\"])"
   ]
  },
  {
   "cell_type": "markdown",
   "id": "d8b7775e-012e-45da-b506-a91701d043d8",
   "metadata": {},
   "source": [
    "# Instrumenting with OpenLLMetry\n",
    "\n",
    "The [OpenLLMetry](https://github.com/traceloop/openllmetry) library provides a set of integrations that automatically instrument LLM libraries with OpenTelemetry.\n",
    "In this case we'll be using the [OpenAI instrumentor](https://pypi.org/project/opentelemetry-instrumentation-openai/).\n",
    "\n",
    "The following automatically instruments a set of attributes/spans for us:"
   ]
  },
  {
   "cell_type": "code",
   "execution_count": 4,
   "id": "b7a26a51-103e-4400-8c43-9ebffebd6313",
   "metadata": {},
   "outputs": [],
   "source": [
    "from opentelemetry.instrumentation.openai import OpenAIInstrumentor\n",
    "OpenAIInstrumentor().instrument()"
   ]
  },
  {
   "cell_type": "markdown",
   "id": "8c756b22-42d4-49f6-b57f-436bc7555295",
   "metadata": {},
   "source": [
    "# Tracking on Traceloop\n",
    "\n",
    "To follow this you'll need an API key for traceloop -- you can sign up for the free \n",
    "tier at [traceloop.com](traceloop.com).\n",
    "\n",
    "We can then build the application and track on traceloop. \n",
    "\n",
    "We:\n",
    "1. Initialize traceloop\n",
    "2. add the OpenTelemetryBridge hook to Burr -- this sets it up to capture Burr framework events as part of Open Telemetry\n",
    "\n",
    "Note you can use any OpenTelemetry provider -- traceloop is specifically built for this, however, and has a variety of LLM-specific integrations.\n",
    "\n",
    "Once you run this, visit [traceloop](app.traceloop.com) to see your traces!"
   ]
  },
  {
   "cell_type": "code",
   "execution_count": 8,
   "id": "7502ab1a-dd74-4e3d-8948-5a88ecb6ee56",
   "metadata": {},
   "outputs": [
    {
     "name": "stdout",
     "output_type": "stream",
     "text": [
      "\u001b[32mTraceloop syncing configuration and prompts\u001b[39m\n",
      "\u001b[32mTraceloop exporting traces to https://api.traceloop.com authenticating with bearer token\n",
      "\u001b[39m\n"
     ]
    },
    {
     "data": {
      "text/plain": [
       "(response: response, safe, mode -> chat_history,\n",
       " {'chat_item': {'content': 'The capital of France is Paris.',\n",
       "   'type': 'text',\n",
       "   'role': 'assistant'}},\n",
       " {'chat_history': [{'role': 'user', 'content': 'Please answer the following question:: What is the capital of France?', 'type': 'text'}, {'content': 'The capital of France is Paris.', 'type': 'text', 'role': 'assistant'}, {'role': 'user', 'content': 'Please answer the following question:: What is the capital of France?', 'type': 'text'}, {'content': 'The capital of France is Paris.', 'type': 'text', 'role': 'assistant'}, {'role': 'user', 'content': 'Please answer the following question:: What is the capital of France?', 'type': 'text'}, {'content': 'The capital of France is Paris.', 'type': 'text', 'role': 'assistant'}, {'role': 'user', 'content': 'Please answer the following question:: What is the capital of France?', 'type': 'text'}, {'content': 'The capital of France is Paris.', 'type': 'text', 'role': 'assistant'}], '__SEQUENCE_ID': 19, 'prompt': 'What is the capital of France?', '__PRIOR_STEP': 'response', 'safe': True, 'mode': 'answer_question', 'response': {'content': 'The capital of France is Paris.', 'type': 'text', 'role': 'assistant'}})"
      ]
     },
     "execution_count": 8,
     "metadata": {},
     "output_type": "execute_result"
    }
   ],
   "source": [
    "# from traceloop.sdk import Traceloop\n",
    "import os\n",
    "from burr.integrations import opentelemetry\n",
    "from burr.core import ApplicationBuilder\n",
    "\n",
    "from traceloop.sdk import Traceloop\n",
    "\n",
    "Traceloop.init(api_key=os.environ[\"TRACELOOP_API_KEY\"])\n",
    "               \n",
    "app_otel = (\n",
    "    ApplicationBuilder()\n",
    "    .with_entrypoint(\"prompt\")\n",
    "    .with_state(chat_history=[])\n",
    "    .with_graph(graph)\n",
    "    .with_hooks(opentelemetry.OpenTelemetryBridge())\n",
    "    .build()\n",
    ")\n",
    "app.run(inputs={\"prompt\":\"What is the capital of France?\"}, halt_after=[\"response\"])"
   ]
  },
  {
   "cell_type": "markdown",
   "id": "5f04b07d-93a0-4b96-a954-d1b9d9b5b668",
   "metadata": {},
   "source": [
    "# Tracking on Burr\n",
    "\n",
    "You can also view on the Burr local tracker! This is good for local debugging and can go hand-in-hand with traceloop.\n",
    "\n",
    "To do so, all you need to do is add the `use_otel_tracing=True` parameter to `with_tracker`."
   ]
  },
  {
   "cell_type": "code",
   "execution_count": 12,
   "id": "c0c1e26e-5b75-4bab-ad58-83aaea9f88af",
   "metadata": {},
   "outputs": [
    {
     "data": {
      "text/plain": [
       "(response: response, safe, mode -> chat_history,\n",
       " {'chat_item': {'content': 'The capital of France is Paris.',\n",
       "   'type': 'text',\n",
       "   'role': 'assistant'}},\n",
       " {'chat_history': [{'role': 'user', 'content': 'Please answer the following question:: What is the capital of France?', 'type': 'text'}, {'content': 'The capital of France is Paris.', 'type': 'text', 'role': 'assistant'}], '__SEQUENCE_ID': 4, 'prompt': 'What is the capital of France?', '__PRIOR_STEP': 'response', 'safe': True, 'mode': 'answer_question', 'response': {'content': 'The capital of France is Paris.', 'type': 'text', 'role': 'assistant'}})"
      ]
     },
     "execution_count": 12,
     "metadata": {},
     "output_type": "execute_result"
    }
   ],
   "source": [
    "app = (ApplicationBuilder()\n",
    "        .with_entrypoint(\"prompt\")\n",
    "        .with_state(chat_history=[])\n",
    "        .with_graph(graph)\n",
    "        .with_tracker(\n",
    "            project=\"demo_opentelemetry\",\n",
    "            use_otel_tracing=True)\n",
    "        .build()\n",
    ")\n",
    "\n",
    "app.run(inputs={\"prompt\":\"What is the capital of France?\"}, halt_after=[\"response\"])"
   ]
  },
  {
   "cell_type": "markdown",
   "id": "c47d87b3-8d32-420b-ab75-acf2a7f6d2a9",
   "metadata": {},
   "source": [
    "# Viewing in UI\n",
    "\n",
    "The following cell gives you a link to the prior run in the UI. If you have not yet, run `burr` in your terminal to start the local tracking server."
   ]
  },
  {
   "cell_type": "code",
   "execution_count": 13,
   "id": "93cad8f7-9f0b-4b20-bc75-2adaca5bfde9",
   "metadata": {},
   "outputs": [
    {
     "data": {
      "text/markdown": [
       "[Link to UI](http://localhost:7241/project/demo_tracing/null/01492754-b899-410f-83c6-b5b86ef457c5)"
      ],
      "text/plain": [
       "<IPython.core.display.Markdown object>"
      ]
     },
     "execution_count": 13,
     "metadata": {},
     "output_type": "execute_result"
    }
   ],
   "source": [
    "from IPython.display import Markdown\n",
    "url = f\"[Link to UI](http://localhost:7241/project/demo_tracing/null/{app.uid})\"\n",
    "Markdown(url)"
   ]
  }
 ],
 "metadata": {
  "kernelspec": {
   "display_name": "Python 3 (ipykernel)",
   "language": "python",
   "name": "python3"
  },
  "language_info": {
   "codemirror_mode": {
    "name": "ipython",
    "version": 3
   },
   "file_extension": ".py",
   "mimetype": "text/x-python",
   "name": "python",
   "nbconvert_exporter": "python",
   "pygments_lexer": "ipython3",
   "version": "3.12.0"
  }
 },
 "nbformat": 4,
 "nbformat_minor": 5
}
