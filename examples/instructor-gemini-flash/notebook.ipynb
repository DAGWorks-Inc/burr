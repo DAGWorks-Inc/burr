{
 "cells": [
  {
   "cell_type": "markdown",
   "metadata": {},
   "source": [
    "# Structured Outputs with Instructor"
   ]
  },
  {
   "cell_type": "markdown",
   "metadata": {},
   "source": [
    "We will show how to use [Instructor](https://python.useinstructor.com/) with [Gemini Flash](https://deepmind.google/technologies/gemini/flash/) to get structured outputs with a human in the loop.\n",
    "\n",
    "Suppose you have an outline for a course you're teaching and you want to break it down into n topics with this structure:  \n",
    "\n",
    "    Topic 1\n",
    "    |__ Subtopic 1\n",
    "        |__ Concept 1\n",
    "        |__ Concept 2\n",
    "        |   ...\n",
    "    |__ Subtopic 2\n",
    "        |__ Concept 1\n",
    "        |__ Concept 2\n",
    "        |__ Concept 3\n",
    "        |   ...\n",
    "    |   ...\n",
    "    Topic 2\n",
    "    |__ Subtopic 1\n",
    "        |__ Concept 1\n",
    "        |   ...\n",
    "    |   ...\n",
    "    .\n",
    "    .\n",
    "    .\n",
    "    Topic n\n",
    "    |__ Subtopic 1\n",
    "        |__ Concept 1\n",
    "        |   ...\n",
    "    |   ...\n",
    "    \n",
    "\n",
    "\n",
    "\n",
    "\n"
   ]
  },
  {
   "cell_type": "markdown",
   "metadata": {},
   "source": [
    "# Imports"
   ]
  },
  {
   "cell_type": "code",
   "execution_count": 1,
   "metadata": {},
   "outputs": [
    {
     "name": "stdout",
     "output_type": "stream",
     "text": [
      "The autoreload extension is already loaded. To reload it, use:\n",
      "  %reload_ext autoreload\n"
     ]
    }
   ],
   "source": [
    "from application import Subtopic, Topic, creation_template, topics_system_template\n",
    "from application import application as topics_application\n",
    "\n",
    "%load_ext autoreload\n",
    "%autoreload 2\n",
    "%reload_ext autoreload"
   ]
  },
  {
   "cell_type": "markdown",
   "metadata": {},
   "source": [
    "# Models"
   ]
  },
  {
   "cell_type": "markdown",
   "metadata": {},
   "source": [
    "We'll first need to create our Pydantic models to define the structure. Let's use some dummy data."
   ]
  },
  {
   "cell_type": "code",
   "execution_count": 2,
   "metadata": {},
   "outputs": [
    {
     "data": {
      "text/plain": [
       "{'name': 'Operations',\n",
       " 'subtopics': [{'name': 'Addition',\n",
       "   'concepts': ['Addition Of Two Numbers',\n",
       "    'Addition Of Negative Numbers',\n",
       "    'Addition Of One Negative And One Positive Number']},\n",
       "  {'name': 'Subtraction',\n",
       "   'concepts': ['Subtraction Of Two Numbers',\n",
       "    'Subtrcting A Larger Number From A Smaller Number']},\n",
       "  {'name': 'Multiplication',\n",
       "   'concepts': ['Multiplication Of Two Numbers',\n",
       "    'Multiplication Of Negative Numbers']},\n",
       "  {'name': 'Division',\n",
       "   'concepts': ['Division Of Two Numbers', 'Division Of A Number By Zero']}]}"
      ]
     },
     "execution_count": 2,
     "metadata": {},
     "output_type": "execute_result"
    }
   ],
   "source": [
    "topic_name = \"Operations\"\n",
    "subtopic_names = [\"Addition\", \"Subtraction\", \"Multiplication\", \"Division\"]\n",
    "subtopic_concepts = [\n",
    "    [\n",
    "        \"Addition of two numbers\",\n",
    "        \"Addition of negative numbers\",\n",
    "        \"Addition of one negative and one positive number\",\n",
    "    ],\n",
    "    [\"Subtraction of two numbers\", \"Subtrcting a larger number from a smaller number\"],\n",
    "    [\"Multiplication of two numbers\", \"Multiplication of negative numbers\"],\n",
    "    [\"Division of two numbers\", \"Division of a number by zero\"],\n",
    "]\n",
    "subtopics = [\n",
    "    Subtopic(name=subtopic_name, concepts=concepts)\n",
    "    for subtopic_name, concepts in zip(subtopic_names, subtopic_concepts)\n",
    "]\n",
    "topic = Topic(name=topic_name, subtopics=subtopics)\n",
    "topic.model_dump()"
   ]
  },
  {
   "cell_type": "markdown",
   "metadata": {},
   "source": [
    "Instructor allows us to set `Topic` as the return type of our LLM call. So we can guarantee that the output will be a `Topic` object, and not just a string."
   ]
  },
  {
   "cell_type": "markdown",
   "metadata": {},
   "source": [
    "# Let's just see how our prompts will look"
   ]
  },
  {
   "cell_type": "markdown",
   "metadata": {},
   "source": [
    "### System Prompt"
   ]
  },
  {
   "cell_type": "code",
   "execution_count": 3,
   "metadata": {},
   "outputs": [
    {
     "name": "stdout",
     "output_type": "stream",
     "text": [
      "\"You are a world class course instructor.\"\n",
      "You'll be given a course outline and you have to generate 3 topics.\n",
      "For each topic:\n",
      "    1. Generate a 3-5 word topic name that encapsulates the description.\n",
      "    2. Generate 2-4 subtopics for the topic. Also 3-5 words each.\n",
      "    For each subtopic:\n",
      "        Generate 2-4 concepts. Also 3-5 words each. The concepts should be related to the subtopic.\n",
      "        Think of concepts as the smallest unit of knowledge that can be taught from the subtopic. And add a verb to the concept to make it actionable.\n",
      "        For example:\n",
      "            \"Calculate Derivatives\" instead of \"Derivatives\".\n",
      "            \"Identify Finite Sets\" instead of \"Finite Sets\".\n",
      "            \"Find the y-intercept\" instead of \"y-intercept\".\n",
      "    The subtopics and concepts should be in the correct order.\n"
     ]
    }
   ],
   "source": [
    "print(topics_system_template(num_required_topics=3))"
   ]
  },
  {
   "cell_type": "markdown",
   "metadata": {},
   "source": [
    "### User Prompt"
   ]
  },
  {
   "cell_type": "code",
   "execution_count": 4,
   "metadata": {},
   "outputs": [
    {
     "name": "stdout",
     "output_type": "stream",
     "text": [
      "<outline>\n",
      "history, science, math\n",
      "</outline>\n",
      "\n",
      "<num_required_topics>\n",
      "3\n",
      "</num_required_topics>\n",
      "\n",
      "<topics_so_far>\n",
      "1/3\n",
      "TOPIC: Math\n",
      "SUBTOPIC 1: Algebra\n",
      "CONCEPT 1: Equations\n",
      "CONCEPT 2: Inequalities\n",
      "SUBTOPIC 2: Geometry\n",
      "CONCEPT 1: Angles\n",
      "CONCEPT 2: Area\n",
      "\n",
      "2/3\n",
      "TOPIC: Science\n",
      "SUBTOPIC 1: Biology\n",
      "CONCEPT 1: Cells\n",
      "CONCEPT 2: Dna\n",
      "SUBTOPIC 2: Physics\n",
      "CONCEPT 1: Energy\n",
      "CONCEPT 2: Forces\n",
      "</topics_so_far>\n",
      "\n",
      "Generate the next topic.\n"
     ]
    }
   ],
   "source": [
    "print(\n",
    "    creation_template(\n",
    "        outline=\"history, science, math\",\n",
    "        topics_so_far=[\n",
    "            Topic(\n",
    "                name=\"Math\",\n",
    "                subtopics=[\n",
    "                    Subtopic(name=\"Algebra\", concepts=[\"Equations\", \"Inequalities\"]),\n",
    "                    Subtopic(name=\"Geometry\", concepts=[\"Angles\", \"Area\"]),\n",
    "                ],\n",
    "            ),\n",
    "            Topic(\n",
    "                name=\"Science\",\n",
    "                subtopics=[\n",
    "                    Subtopic(name=\"Biology\", concepts=[\"Cells\", \"DNA\"]),\n",
    "                    Subtopic(name=\"Physics\", concepts=[\"Energy\", \"Forces\"]),\n",
    "                ],\n",
    "            ),\n",
    "        ],\n",
    "        num_required_topics=3,\n",
    "    )\n",
    ")"
   ]
  },
  {
   "cell_type": "markdown",
   "metadata": {},
   "source": [
    "# Application"
   ]
  },
  {
   "cell_type": "code",
   "execution_count": 5,
   "metadata": {},
   "outputs": [
    {
     "data": {
      "image/svg+xml": [
       "<?xml version=\"1.0\" encoding=\"UTF-8\" standalone=\"no\"?>\n",
       "<!DOCTYPE svg PUBLIC \"-//W3C//DTD SVG 1.1//EN\"\n",
       " \"http://www.w3.org/Graphics/SVG/1.1/DTD/svg11.dtd\">\n",
       "<!-- Generated by graphviz version 2.43.0 (0)\n",
       " -->\n",
       "<!-- Title: %3 Pages: 1 -->\n",
       "<svg width=\"1016pt\" height=\"326pt\"\n",
       " viewBox=\"0.00 0.00 1016.00 326.00\" xmlns=\"http://www.w3.org/2000/svg\" xmlns:xlink=\"http://www.w3.org/1999/xlink\">\n",
       "<g id=\"graph0\" class=\"graph\" transform=\"scale(1 1) rotate(0) translate(4 322)\">\n",
       "<title>%3</title>\n",
       "<polygon fill=\"white\" stroke=\"transparent\" points=\"-4,4 -4,-322 1012,-322 1012,4 -4,4\"/>\n",
       "<!-- setup -->\n",
       "<g id=\"node1\" class=\"node\">\n",
       "<title>setup</title>\n",
       "<path fill=\"none\" stroke=\"black\" d=\"M865,-251C865,-251 509,-251 509,-251 503,-251 497,-245 497,-239 497,-239 497,-227 497,-227 497,-221 503,-215 509,-215 509,-215 865,-215 865,-215 871,-215 877,-221 877,-227 877,-227 877,-239 877,-239 877,-245 871,-251 865,-251\"/>\n",
       "<text text-anchor=\"middle\" x=\"687\" y=\"-229.3\" font-family=\"Times,serif\" font-size=\"14.00\">setup(): outline, num_required_topics, chat_history</text>\n",
       "</g>\n",
       "<!-- creator -->\n",
       "<g id=\"node4\" class=\"node\">\n",
       "<title>creator</title>\n",
       "<path fill=\"none\" stroke=\"black\" d=\"M804,-184C804,-184 12,-184 12,-184 6,-184 0,-178 0,-172 0,-172 0,-160 0,-160 0,-154 6,-148 12,-148 12,-148 804,-148 804,-148 810,-148 816,-154 816,-160 816,-160 816,-172 816,-172 816,-178 810,-184 804,-184\"/>\n",
       "<text text-anchor=\"middle\" x=\"408\" y=\"-162.3\" font-family=\"Times,serif\" font-size=\"14.00\">creator(chat_history, outline, num_required_topics, topics_so_far, topic_feedback): generated_topic, chat_history</text>\n",
       "</g>\n",
       "<!-- setup&#45;&gt;creator -->\n",
       "<g id=\"edge4\" class=\"edge\">\n",
       "<title>setup&#45;&gt;creator</title>\n",
       "<path fill=\"none\" stroke=\"black\" d=\"M613.7,-214.92C576.04,-206.15 530.01,-195.42 491.04,-186.35\"/>\n",
       "<polygon fill=\"black\" stroke=\"black\" points=\"491.83,-182.94 481.3,-184.08 490.24,-189.75 491.83,-182.94\"/>\n",
       "</g>\n",
       "<!-- input__num_required_topics -->\n",
       "<g id=\"node2\" class=\"node\">\n",
       "<title>input__num_required_topics</title>\n",
       "<ellipse fill=\"none\" stroke=\"black\" stroke-dasharray=\"5,2\" cx=\"572\" cy=\"-300\" rx=\"137.58\" ry=\"18\"/>\n",
       "<text text-anchor=\"middle\" x=\"572\" y=\"-296.3\" font-family=\"Times,serif\" font-size=\"14.00\">input: num_required_topics</text>\n",
       "</g>\n",
       "<!-- input__num_required_topics&#45;&gt;setup -->\n",
       "<g id=\"edge1\" class=\"edge\">\n",
       "<title>input__num_required_topics&#45;&gt;setup</title>\n",
       "<path fill=\"none\" stroke=\"black\" d=\"M601.62,-282.26C615.61,-274.35 632.52,-264.79 647.59,-256.28\"/>\n",
       "<polygon fill=\"black\" stroke=\"black\" points=\"649.7,-259.1 656.68,-251.14 646.26,-253.01 649.7,-259.1\"/>\n",
       "</g>\n",
       "<!-- input__outline -->\n",
       "<g id=\"node3\" class=\"node\">\n",
       "<title>input__outline</title>\n",
       "<ellipse fill=\"none\" stroke=\"black\" stroke-dasharray=\"5,2\" cx=\"801\" cy=\"-300\" rx=\"73.39\" ry=\"18\"/>\n",
       "<text text-anchor=\"middle\" x=\"801\" y=\"-296.3\" font-family=\"Times,serif\" font-size=\"14.00\">input: outline</text>\n",
       "</g>\n",
       "<!-- input__outline&#45;&gt;setup -->\n",
       "<g id=\"edge2\" class=\"edge\">\n",
       "<title>input__outline&#45;&gt;setup</title>\n",
       "<path fill=\"none\" stroke=\"black\" d=\"M773.4,-283.27C759.19,-275.16 741.62,-265.14 726.04,-256.26\"/>\n",
       "<polygon fill=\"black\" stroke=\"black\" points=\"727.56,-253.1 717.14,-251.19 724.1,-259.18 727.56,-253.1\"/>\n",
       "</g>\n",
       "<!-- creator&#45;&gt;creator -->\n",
       "<g id=\"edge5\" class=\"edge\">\n",
       "<title>creator&#45;&gt;creator</title>\n",
       "<path fill=\"none\" stroke=\"black\" stroke-dasharray=\"5,2\" d=\"M816.18,-169.07C827.58,-168.23 834,-167.2 834,-166 834,-165.23 831.36,-164.53 826.47,-163.91\"/>\n",
       "<polygon fill=\"black\" stroke=\"black\" points=\"826.47,-160.39 816.18,-162.93 825.8,-167.36 826.47,-160.39\"/>\n",
       "<text text-anchor=\"middle\" x=\"921\" y=\"-162.3\" font-family=\"Times,serif\" font-size=\"14.00\">generated_topic is None</text>\n",
       "</g>\n",
       "<!-- get_topic_feedback -->\n",
       "<g id=\"node6\" class=\"node\">\n",
       "<title>get_topic_feedback</title>\n",
       "<path fill=\"none\" stroke=\"black\" d=\"M722,-117C722,-117 94,-117 94,-117 88,-117 82,-111 82,-105 82,-105 82,-93 82,-93 82,-87 88,-81 94,-81 94,-81 722,-81 722,-81 728,-81 734,-87 734,-93 734,-93 734,-105 734,-105 734,-111 728,-117 722,-117\"/>\n",
       "<text text-anchor=\"middle\" x=\"408\" y=\"-95.3\" font-family=\"Times,serif\" font-size=\"14.00\">get_topic_feedback(generated_topic, num_required_topics, topics_so_far): topic_feedback</text>\n",
       "</g>\n",
       "<!-- creator&#45;&gt;get_topic_feedback -->\n",
       "<g id=\"edge6\" class=\"edge\">\n",
       "<title>creator&#45;&gt;get_topic_feedback</title>\n",
       "<path fill=\"none\" stroke=\"black\" d=\"M401.98,-147.92C401.34,-141.7 401.12,-134.5 401.32,-127.6\"/>\n",
       "<polygon fill=\"black\" stroke=\"black\" points=\"404.84,-127.39 401.97,-117.19 397.85,-126.95 404.84,-127.39\"/>\n",
       "</g>\n",
       "<!-- input__attempts -->\n",
       "<g id=\"node5\" class=\"node\">\n",
       "<title>input__attempts</title>\n",
       "<ellipse fill=\"none\" stroke=\"black\" stroke-dasharray=\"5,2\" cx=\"396\" cy=\"-233\" rx=\"83.39\" ry=\"18\"/>\n",
       "<text text-anchor=\"middle\" x=\"396\" y=\"-229.3\" font-family=\"Times,serif\" font-size=\"14.00\">input: attempts</text>\n",
       "</g>\n",
       "<!-- input__attempts&#45;&gt;creator -->\n",
       "<g id=\"edge3\" class=\"edge\">\n",
       "<title>input__attempts&#45;&gt;creator</title>\n",
       "<path fill=\"none\" stroke=\"black\" d=\"M399.15,-214.92C400.33,-208.55 401.69,-201.16 403,-194.11\"/>\n",
       "<polygon fill=\"black\" stroke=\"black\" points=\"406.45,-194.66 404.83,-184.19 399.57,-193.39 406.45,-194.66\"/>\n",
       "</g>\n",
       "<!-- get_topic_feedback&#45;&gt;creator -->\n",
       "<g id=\"edge8\" class=\"edge\">\n",
       "<title>get_topic_feedback&#45;&gt;creator</title>\n",
       "<path fill=\"none\" stroke=\"black\" d=\"M414.03,-117.19C414.66,-123.42 414.88,-130.63 414.68,-137.52\"/>\n",
       "<polygon fill=\"black\" stroke=\"black\" points=\"411.16,-137.72 414.02,-147.92 418.14,-138.16 411.16,-137.72\"/>\n",
       "</g>\n",
       "<!-- update_topics_so_far -->\n",
       "<g id=\"node7\" class=\"node\">\n",
       "<title>update_topics_so_far</title>\n",
       "<path fill=\"none\" stroke=\"black\" d=\"M769,-36C769,-36 401,-36 401,-36 395,-36 389,-30 389,-24 389,-24 389,-12 389,-12 389,-6 395,0 401,0 401,0 769,0 769,0 775,0 781,-6 781,-12 781,-12 781,-24 781,-24 781,-30 775,-36 769,-36\"/>\n",
       "<text text-anchor=\"middle\" x=\"585\" y=\"-14.3\" font-family=\"Times,serif\" font-size=\"14.00\">update_topics_so_far(generated_topic): topics_so_far</text>\n",
       "</g>\n",
       "<!-- get_topic_feedback&#45;&gt;update_topics_so_far -->\n",
       "<g id=\"edge7\" class=\"edge\">\n",
       "<title>get_topic_feedback&#45;&gt;update_topics_so_far</title>\n",
       "<path fill=\"none\" stroke=\"black\" stroke-dasharray=\"5,2\" d=\"M446.41,-80.86C473.08,-68.95 508.81,-53.01 537.3,-40.29\"/>\n",
       "<polygon fill=\"black\" stroke=\"black\" points=\"538.96,-43.38 546.67,-36.11 536.11,-36.99 538.96,-43.38\"/>\n",
       "<text text-anchor=\"middle\" x=\"594.5\" y=\"-54.8\" font-family=\"Times,serif\" font-size=\"14.00\">topic_feedback is None</text>\n",
       "</g>\n",
       "<!-- update_topics_so_far&#45;&gt;creator -->\n",
       "<g id=\"edge9\" class=\"edge\">\n",
       "<title>update_topics_so_far&#45;&gt;creator</title>\n",
       "<path fill=\"none\" stroke=\"black\" d=\"M657.95,-36.03C713.41,-52.33 775.14,-79.93 743,-117 732.24,-129.41 710.2,-138.69 682.33,-145.61\"/>\n",
       "<polygon fill=\"black\" stroke=\"black\" points=\"681.18,-142.29 672.23,-147.96 682.77,-149.1 681.18,-142.29\"/>\n",
       "</g>\n",
       "</g>\n",
       "</svg>\n"
      ],
      "text/plain": [
       "<graphviz.graphs.Digraph at 0x7f2abb0658d0>"
      ]
     },
     "execution_count": 5,
     "metadata": {},
     "output_type": "execute_result"
    }
   ],
   "source": [
    "app = topics_application()\n",
    "app.visualize(\n",
    "    output_file_path=\"statemachine\",\n",
    "    include_conditions=True,\n",
    "    include_state=True,\n",
    "    format=\"png\",\n",
    ")"
   ]
  },
  {
   "cell_type": "markdown",
   "metadata": {},
   "source": [
    "Let's go through the visualization:\n",
    "1. Give the `ouline` string and the `num_required_topics` as inputs to `setup`.\n",
    "2. `creator` will run in a loop. Generated one topic at a time.\n",
    "3. If for whatever reason the `generated_topic` is None, this means there was some error even after some retries. In this case, `creator` will be called again.\n",
    "4. `get_topic_feedback` will be called to get feedback on `generated_topic`.\n",
    "5. If `topic_feedback` is None, it means that the user is satisfied. `update_topics_so_far` will be called to add the `generated_topic` to the `topics_so_far` list.\n",
    "6. If the user is not satisfied, `creator` will be called again with the `generated_topic` and `topic_feedback` added to the `chat_history`.\n"
   ]
  },
  {
   "cell_type": "code",
   "execution_count": 6,
   "metadata": {},
   "outputs": [],
   "source": [
    "inputs = {\"outline\": \"history, science, math\", \"num_required_topics\": 3}\n",
    "\n",
    "while True:\n",
    "    action, result, state = app.run(halt_after=[\"update_topics_so_far\"], inputs=inputs)\n",
    "    # let's stop after we have the required number of topics\n",
    "    if (\n",
    "        action.name == \"update_topics_so_far\"\n",
    "        and len(state[\"topics_so_far\"]) == state[\"num_required_topics\"]\n",
    "    ):\n",
    "        break"
   ]
  },
  {
   "cell_type": "code",
   "execution_count": 7,
   "metadata": {},
   "outputs": [
    {
     "data": {
      "text/plain": [
       "[Topic(name='History', subtopics=[Subtopic(name='Ancient Civilizations', concepts=['Identify Major Ancient Civilizations', 'Analyze Ancient Societies', 'Compare And Contrast Ancient Cultures', 'Trace The Development Of Writing Systems']), Subtopic(name='Medieval Period', concepts=['Explore The Rise Of Feudalism', 'Examine The Impact Of The Crusades', 'Analyze The Role Of The Church', 'Study The Black Death And Its Consequences']), Subtopic(name='Modern History', concepts=['Understand The Renaissance And Reformation', 'Analyze The Age Of Exploration', 'Examine The Scientific Revolution', 'Explore The Industrial Revolution'])]),\n",
       " Topic(name='Science', subtopics=[Subtopic(name='Life Sciences', concepts=['Identify Different Kingdoms Of Life', 'Describe The Characteristics Of Living Organisms', 'Explain The Process Of Photosynthesis', 'Analyze The Structure Of Cells']), Subtopic(name='Physical Sciences', concepts=['Understand The Laws Of Motion', 'Calculate Force And Acceleration', 'Explain The Properties Of Matter', 'Describe The States Of Matter']), Subtopic(name='Earth Sciences', concepts=['Identify Different Types Of Rocks', 'Explain The Plate Tectonic Theory', 'Analyze Weather Patterns', 'Describe The Water Cycle'])]),\n",
       " Topic(name='Mathematics', subtopics=[Subtopic(name='Algebraic Foundations', concepts=['Simplify Algebraic Expressions', 'Solve Linear Equations', 'Factor Polynomials', 'Graph Linear Functions']), Subtopic(name='Geometric Concepts', concepts=['Calculate Area And Perimeter', 'Identify Geometric Shapes', 'Apply Pythagorean Theorem', 'Solve For Volume And Surface Area']), Subtopic(name='Trigonometry And Calculus', concepts=['Calculate Sine, Cosine, And Tangent', 'Solve Trigonometric Equations', 'Find Derivatives Of Functions', 'Integrate Functions'])])]"
      ]
     },
     "execution_count": 7,
     "metadata": {},
     "output_type": "execute_result"
    }
   ],
   "source": [
    "app.state[\"topics_so_far\"]"
   ]
  },
  {
   "cell_type": "code",
   "execution_count": 9,
   "metadata": {},
   "outputs": [
    {
     "data": {
      "text/plain": [
       "{'name': 'History',\n",
       " 'subtopics': [{'name': 'Ancient Civilizations',\n",
       "   'concepts': ['Identify Major Ancient Civilizations',\n",
       "    'Analyze Ancient Societies',\n",
       "    'Compare And Contrast Ancient Cultures',\n",
       "    'Trace The Development Of Writing Systems']},\n",
       "  {'name': 'Medieval Period',\n",
       "   'concepts': ['Explore The Rise Of Feudalism',\n",
       "    'Examine The Impact Of The Crusades',\n",
       "    'Analyze The Role Of The Church',\n",
       "    'Study The Black Death And Its Consequences']},\n",
       "  {'name': 'Modern History',\n",
       "   'concepts': ['Understand The Renaissance And Reformation',\n",
       "    'Analyze The Age Of Exploration',\n",
       "    'Examine The Scientific Revolution',\n",
       "    'Explore The Industrial Revolution']}]}"
      ]
     },
     "execution_count": 9,
     "metadata": {},
     "output_type": "execute_result"
    }
   ],
   "source": [
    "topic1 = app.state[\"topics_so_far\"][0]\n",
    "topic1.model_dump()"
   ]
  },
  {
   "cell_type": "code",
   "execution_count": 8,
   "metadata": {},
   "outputs": [
    {
     "data": {
      "text/plain": [
       "[{'role': 'system',\n",
       "  'content': '\"You are a world class course instructor.\"\\nYou\\'ll be given a course outline and you have to generate 3 topics.\\nFor each topic:\\n    1. Generate a 3-5 word topic name that encapsulates the description.\\n    2. Generate 2-4 subtopics for the topic. Also 3-5 words each.\\n    For each subtopic:\\n        Generate 2-4 concepts. Also 3-5 words each. The concepts should be related to the subtopic.\\n        Think of concepts as the smallest unit of knowledge that can be taught from the subtopic. And add a verb to the concept to make it actionable.\\n        For example:\\n            \"Calculate Derivatives\" instead of \"Derivatives\".\\n            \"Identify Finite Sets\" instead of \"Finite Sets\".\\n            \"Find the y-intercept\" instead of \"y-intercept\".\\n    The subtopics and concepts should be in the correct order.'},\n",
       " {'role': 'user',\n",
       "  'content': '<outline>\\nhistory, science, math\\n</outline>\\n\\n<num_required_topics>\\n3\\n</num_required_topics>\\n\\n<topics_so_far>\\n</topics_so_far>\\n\\nGenerate the next topic.'},\n",
       " {'role': 'assistant',\n",
       "  'content': 'TOPIC: Mathematics\\nSUBTOPIC 1: Algebraic Foundations\\nCONCEPT 1: Simplify Algebraic Expressions\\nCONCEPT 2: Solve Linear Equations\\nCONCEPT 3: Factor Polynomials\\nCONCEPT 4: Graph Linear Functions\\nSUBTOPIC 2: Geometric Concepts\\nCONCEPT 1: Calculate Area And Perimeter\\nCONCEPT 2: Identify Geometric Shapes\\nCONCEPT 3: Apply Pythagorean Theorem\\nCONCEPT 4: Solve For Volume And Surface Area\\nSUBTOPIC 3: Trigonometry And Calculus\\nCONCEPT 1: Calculate Sine, Cosine, And Tangent\\nCONCEPT 2: Solve Trigonometric Equations\\nCONCEPT 3: Find Derivatives Of Functions\\nCONCEPT 4: Integrate Functions\\n'},\n",
       " {'role': 'user',\n",
       "  'content': 'User feedback: 3 topics in the sequence of the course outline'},\n",
       " {'role': 'assistant',\n",
       "  'content': 'TOPIC: History\\nSUBTOPIC 1: Ancient Civilizations\\nCONCEPT 1: Identify Major Ancient Civilizations\\nCONCEPT 2: Analyze Ancient Societies\\nCONCEPT 3: Compare And Contrast Ancient Cultures\\nCONCEPT 4: Trace The Development Of Writing Systems\\nSUBTOPIC 2: Medieval Period\\nCONCEPT 1: Explore The Rise Of Feudalism\\nCONCEPT 2: Examine The Impact Of The Crusades\\nCONCEPT 3: Analyze The Role Of The Church\\nCONCEPT 4: Study The Black Death And Its Consequences\\nSUBTOPIC 3: Modern History\\nCONCEPT 1: Understand The Renaissance And Reformation\\nCONCEPT 2: Analyze The Age Of Exploration\\nCONCEPT 3: Examine The Scientific Revolution\\nCONCEPT 4: Explore The Industrial Revolution\\n'},\n",
       " {'role': 'user',\n",
       "  'content': '<outline>\\nhistory, science, math\\n</outline>\\n\\n<num_required_topics>\\n3\\n</num_required_topics>\\n\\n<topics_so_far>\\n1/3\\nTOPIC: History\\nSUBTOPIC 1: Ancient Civilizations\\nCONCEPT 1: Identify Major Ancient Civilizations\\nCONCEPT 2: Analyze Ancient Societies\\nCONCEPT 3: Compare And Contrast Ancient Cultures\\nCONCEPT 4: Trace The Development Of Writing Systems\\nSUBTOPIC 2: Medieval Period\\nCONCEPT 1: Explore The Rise Of Feudalism\\nCONCEPT 2: Examine The Impact Of The Crusades\\nCONCEPT 3: Analyze The Role Of The Church\\nCONCEPT 4: Study The Black Death And Its Consequences\\nSUBTOPIC 3: Modern History\\nCONCEPT 1: Understand The Renaissance And Reformation\\nCONCEPT 2: Analyze The Age Of Exploration\\nCONCEPT 3: Examine The Scientific Revolution\\nCONCEPT 4: Explore The Industrial Revolution\\n</topics_so_far>\\n\\nGenerate the next topic.'},\n",
       " {'role': 'assistant',\n",
       "  'content': 'TOPIC: Science\\nSUBTOPIC 1: Life Sciences\\nCONCEPT 1: Identify Different Kingdoms Of Life\\nCONCEPT 2: Describe The Characteristics Of Living Organisms\\nCONCEPT 3: Explain The Process Of Photosynthesis\\nCONCEPT 4: Analyze The Structure Of Cells\\nSUBTOPIC 2: Physical Sciences\\nCONCEPT 1: Understand The Laws Of Motion\\nCONCEPT 2: Calculate Force And Acceleration\\nCONCEPT 3: Explain The Properties Of Matter\\nCONCEPT 4: Describe The States Of Matter\\nSUBTOPIC 3: Earth Sciences\\nCONCEPT 1: Identify Different Types Of Rocks\\nCONCEPT 2: Explain The Plate Tectonic Theory\\nCONCEPT 3: Analyze Weather Patterns\\nCONCEPT 4: Describe The Water Cycle\\n'},\n",
       " {'role': 'user',\n",
       "  'content': '<outline>\\nhistory, science, math\\n</outline>\\n\\n<num_required_topics>\\n3\\n</num_required_topics>\\n\\n<topics_so_far>\\n1/3\\nTOPIC: History\\nSUBTOPIC 1: Ancient Civilizations\\nCONCEPT 1: Identify Major Ancient Civilizations\\nCONCEPT 2: Analyze Ancient Societies\\nCONCEPT 3: Compare And Contrast Ancient Cultures\\nCONCEPT 4: Trace The Development Of Writing Systems\\nSUBTOPIC 2: Medieval Period\\nCONCEPT 1: Explore The Rise Of Feudalism\\nCONCEPT 2: Examine The Impact Of The Crusades\\nCONCEPT 3: Analyze The Role Of The Church\\nCONCEPT 4: Study The Black Death And Its Consequences\\nSUBTOPIC 3: Modern History\\nCONCEPT 1: Understand The Renaissance And Reformation\\nCONCEPT 2: Analyze The Age Of Exploration\\nCONCEPT 3: Examine The Scientific Revolution\\nCONCEPT 4: Explore The Industrial Revolution\\n\\n2/3\\nTOPIC: Science\\nSUBTOPIC 1: Life Sciences\\nCONCEPT 1: Identify Different Kingdoms Of Life\\nCONCEPT 2: Describe The Characteristics Of Living Organisms\\nCONCEPT 3: Explain The Process Of Photosynthesis\\nCONCEPT 4: Analyze The Structure Of Cells\\nSUBTOPIC 2: Physical Sciences\\nCONCEPT 1: Understand The Laws Of Motion\\nCONCEPT 2: Calculate Force And Acceleration\\nCONCEPT 3: Explain The Properties Of Matter\\nCONCEPT 4: Describe The States Of Matter\\nSUBTOPIC 3: Earth Sciences\\nCONCEPT 1: Identify Different Types Of Rocks\\nCONCEPT 2: Explain The Plate Tectonic Theory\\nCONCEPT 3: Analyze Weather Patterns\\nCONCEPT 4: Describe The Water Cycle\\n</topics_so_far>\\n\\nGenerate the next topic.'},\n",
       " {'role': 'assistant',\n",
       "  'content': 'TOPIC: Mathematics\\nSUBTOPIC 1: Algebraic Foundations\\nCONCEPT 1: Simplify Algebraic Expressions\\nCONCEPT 2: Solve Linear Equations\\nCONCEPT 3: Factor Polynomials\\nCONCEPT 4: Graph Linear Functions\\nSUBTOPIC 2: Geometric Concepts\\nCONCEPT 1: Calculate Area And Perimeter\\nCONCEPT 2: Identify Geometric Shapes\\nCONCEPT 3: Apply Pythagorean Theorem\\nCONCEPT 4: Solve For Volume And Surface Area\\nSUBTOPIC 3: Trigonometry And Calculus\\nCONCEPT 1: Calculate Sine, Cosine, And Tangent\\nCONCEPT 2: Solve Trigonometric Equations\\nCONCEPT 3: Find Derivatives Of Functions\\nCONCEPT 4: Integrate Functions\\n'}]"
      ]
     },
     "execution_count": 8,
     "metadata": {},
     "output_type": "execute_result"
    }
   ],
   "source": [
    "app.state[\"chat_history\"]"
   ]
  },
  {
   "cell_type": "code",
   "execution_count": null,
   "metadata": {},
   "outputs": [],
   "source": []
  }
 ],
 "metadata": {
  "kernelspec": {
   "display_name": ".venv",
   "language": "python",
   "name": "python3"
  },
  "language_info": {
   "codemirror_mode": {
    "name": "ipython",
    "version": 3
   },
   "file_extension": ".py",
   "mimetype": "text/x-python",
   "name": "python",
   "nbconvert_exporter": "python",
   "pygments_lexer": "ipython3",
   "version": "3.11.9"
  }
 },
 "nbformat": 4,
 "nbformat_minor": 2
}
